{
 "cells": [
  {
   "cell_type": "markdown",
   "metadata": {},
   "source": [
    "# Numerical Functions"
   ]
  },
  {
   "cell_type": "code",
   "execution_count": 1,
   "metadata": {},
   "outputs": [
    {
     "name": "stdout",
     "output_type": "stream",
     "text": [
      "Populating the interactive namespace from numpy and matplotlib\n"
     ]
    }
   ],
   "source": [
    "%pylab inline"
   ]
  },
  {
   "cell_type": "markdown",
   "metadata": {},
   "source": [
    "Newton's method for $x = \\sqrt{a}$:\n",
    "$$x_{n+1} = \\frac{1}[2} (x_n + \\frac{a}{x_n})$$"
   ]
  },
  {
   "cell_type": "code",
   "execution_count": 25,
   "metadata": {},
   "outputs": [],
   "source": [
    "def sqrt_newton(a, x=1, tol=1e-6):\n",
    "    \"\"\"\n",
    "    newton's method for sqrt\n",
    "    \"\"\"\n",
    "    n = 0\n",
    "    while(abs(x*x - a) > tol):\n",
    "        x = (x + (a / x))/2\n",
    "        n = n + 1\n",
    "        \n",
    "    return x, n\n",
    "    "
   ]
  },
  {
   "cell_type": "code",
   "execution_count": 26,
   "metadata": {},
   "outputs": [
    {
     "data": {
      "text/plain": [
       "(1.4142135623746899, 4)"
      ]
     },
     "execution_count": 26,
     "metadata": {},
     "output_type": "execute_result"
    }
   ],
   "source": [
    "sqrt_newton(2)"
   ]
  },
  {
   "cell_type": "code",
   "execution_count": 27,
   "metadata": {},
   "outputs": [],
   "source": [
    "def sqrt_gen(a, x=1, tol=1e-6):\n",
    "    while(abs(x*x - a) > tol):\n",
    "        x = (x + a / x) / 2\n",
    "        yield x"
   ]
  },
  {
   "cell_type": "code",
   "execution_count": 33,
   "metadata": {},
   "outputs": [
    {
     "name": "stdout",
     "output_type": "stream",
     "text": [
      "5000.5\n",
      "2501.249900009999\n",
      "1252.6239505846615\n",
      "630.3035962394365\n",
      "323.0844833048122\n",
      "177.01806998329744\n",
      "116.75473894984788\n",
      "101.20218365353946\n",
      "100.00714038711746\n",
      "100.00000025490743\n",
      "100.0\n"
     ]
    }
   ],
   "source": [
    "for x in sqrt_gen(10_000):\n",
    "    print(x)"
   ]
  },
  {
   "cell_type": "code",
   "execution_count": null,
   "metadata": {},
   "outputs": [],
   "source": [
    "def sqrt_taylor(x, a):\n",
    "    \"\"\"\n",
    "    taylor series for sqrt centered at a\n",
    "    \"\"\"\n",
    "    pass"
   ]
  }
 ],
 "metadata": {
  "kernelspec": {
   "display_name": "Python (pycourse)",
   "language": "python",
   "name": "pycourse"
  },
  "language_info": {
   "codemirror_mode": {
    "name": "ipython",
    "version": 3
   },
   "file_extension": ".py",
   "mimetype": "text/x-python",
   "name": "python",
   "nbconvert_exporter": "python",
   "pygments_lexer": "ipython3",
   "version": "3.8.3"
  }
 },
 "nbformat": 4,
 "nbformat_minor": 4
}
