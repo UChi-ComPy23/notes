{
 "cells": [
  {
   "cell_type": "markdown",
   "metadata": {},
   "source": [
    "# PyTorch Neural Networks\n",
    "\n",
    "[PyTorch](https://pytorch.org/) is a Python package for defining and training neural networks.  Neural networks and deep learning have been a hot topic for several years, and are the tools underlying many state-of-the art machine learning tasks.  There are many industrial applications (e.g. at your favorite or least favorite companies in Silicon Valley), but also many scientific applications including\n",
    "* Processing data in particle detectors\n",
    "* Seismic imaging / medical imaging\n",
    "* Accelerating simulations of physical phenomena\n",
    "* ...\n",
    "\n",
    "A (deep) feed-forward neural network is the composition of functions\n",
    "\\begin{equation}\n",
    "f_N(x; w_N, b_N) \\circ f_{N-1}(x; w_{N-1}, b_{N-1}) \\circ \\dots f_0(x; w_0, b_0)\n",
    "\\end{equation}\n",
    "where each $f_i(x; w_i, b_i)$ is a (non-linear) function with learnable parameters $w_i, b_i$.  There are many choices for what the exact function is.  A common and simple one to describe is an (affine) linear transformation followed by a non-linearity.\n",
    "\\begin{equation}\n",
    "f_i(x; w_i, b_i) = (w_i \\cdot x + b_i)_+\n",
    "\\end{equation}\n",
    "\n",
    "where $w_i \\cdot x$ is matrix-vector multiplication, and $(\\cdot)_+$ is the ReLU operation (Rectified Linear Unit)\n",
    "\\begin{equation}\n",
    "x_+ = \\begin{cases}\n",
    "x & x > 0\\\\\n",
    "0 & x \\le 0\n",
    "\\end{cases}\n",
    "\\end{equation}\n",
    "\n",
    "If you take the composition of several functions like this, you have a multilayer perceptron (MLP).\n"
   ]
  },
  {
   "cell_type": "markdown",
   "metadata": {},
   "source": [
    "## Deep Learning Libraries\n",
    "\n",
    "There are many deep learning libraries available, the most common ones for python are\n",
    "\n",
    "- TensorFlow, Keras\n",
    "- PyTorch\n",
    "\n",
    "Working with tensorflow requires going into lot of details of the contruction of the computation graph, whereas Keras is a higher level interface for tensorflow. Tensorflow is very popular in the industry and good for production code.\n",
    "\n",
    "PyTorch can be used as low level interface, but is much more user-friendly than tensorflow, but it also has a higher level interface. Pytorch is more popular in the research community."
   ]
  },
  {
   "cell_type": "markdown",
   "metadata": {},
   "source": [
    "### Main features that any deep learning library should provide\n",
    "\n",
    "No matter what library or language you use, the main features provided by a deep learning library are \n",
    "1. Use the GPU to speed up computation \n",
    "2. Ability to do automatic differentiation\n",
    "3. Useful library functions for common architectures and optimization algorithms\n",
    "\n",
    "### PyTorch\n",
    "We will look at all of the above in pytorch.\n",
    "The best way to think about pytorch is that its numpy + GPU + autograd.\n",
    "\n",
    "You can install it with\n",
    "\n",
    "```conda install pytorch```.\n",
    "\n",
    "Alternatively (and recommended), run this notebook in Google Colab-- it provides an environment with all of the PyTorch dependencies plus a GPU free of charge."
   ]
  },
  {
   "cell_type": "code",
   "execution_count": 1,
   "metadata": {},
   "outputs": [
    {
     "data": {
      "text/plain": [
       "'1.7.0'"
      ]
     },
     "execution_count": 1,
     "metadata": {},
     "output_type": "execute_result"
    }
   ],
   "source": [
    "import torch\n",
    "import numpy as np\n",
    "import matplotlib.pyplot as plt\n",
    "torch.__version__"
   ]
  },
  {
   "cell_type": "markdown",
   "metadata": {},
   "source": [
    "## Automatic Differentiation\n",
    "\n",
    "[Automatic differentiation](https://en.wikipedia.org/wiki/Automatic_differentiation) is different from numerical differentiation, which requires a choice of step size, and symbolic differentiation which creates a single expression for a derivative.  Instead it performs chain rule repeatedly.\n",
    "\n",
    "PyTorch uses dynamic computation graphs to compute the gradients of the parameters."
   ]
  },
  {
   "cell_type": "code",
   "execution_count": 2,
   "metadata": {},
   "outputs": [],
   "source": [
    "x = torch.tensor([2.0])\n",
    "m = torch.tensor([5.0], requires_grad = True)\n",
    "c = torch.tensor([2.0], requires_grad = True)"
   ]
  },
  {
   "cell_type": "code",
   "execution_count": 3,
   "metadata": {},
   "outputs": [
    {
     "data": {
      "text/plain": [
       "tensor([12.], grad_fn=<AddBackward0>)"
      ]
     },
     "execution_count": 3,
     "metadata": {},
     "output_type": "execute_result"
    }
   ],
   "source": [
    "y = m*x + c\n",
    "y"
   ]
  },
  {
   "cell_type": "markdown",
   "metadata": {},
   "source": [
    "Define an error for your function"
   ]
  },
  {
   "cell_type": "code",
   "execution_count": 4,
   "metadata": {},
   "outputs": [
    {
     "data": {
      "text/plain": [
       "tensor(1., grad_fn=<CopyBackwards>)"
      ]
     },
     "execution_count": 4,
     "metadata": {},
     "output_type": "execute_result"
    }
   ],
   "source": [
    "loss = torch.norm( y - 13)\n",
    "loss"
   ]
  },
  {
   "cell_type": "code",
   "execution_count": 5,
   "metadata": {},
   "outputs": [],
   "source": [
    "m.grad"
   ]
  },
  {
   "cell_type": "markdown",
   "metadata": {},
   "source": [
    "Calling `x.backward()` on any tensor forces pytorch to compute all the gradients of the tensors used to compute `x` which had the `requires_grad` flag set to `True`. The computed gradient will be stored in the `.grad` property of the tensors"
   ]
  },
  {
   "cell_type": "code",
   "execution_count": 6,
   "metadata": {},
   "outputs": [],
   "source": [
    "loss.backward()"
   ]
  },
  {
   "cell_type": "code",
   "execution_count": 7,
   "metadata": {},
   "outputs": [
    {
     "data": {
      "text/plain": [
       "tensor([-2.])"
      ]
     },
     "execution_count": 7,
     "metadata": {},
     "output_type": "execute_result"
    }
   ],
   "source": [
    "m.grad"
   ]
  },
  {
   "cell_type": "code",
   "execution_count": 8,
   "metadata": {},
   "outputs": [
    {
     "data": {
      "text/plain": [
       "tensor([-1.])"
      ]
     },
     "execution_count": 8,
     "metadata": {},
     "output_type": "execute_result"
    }
   ],
   "source": [
    "c.grad"
   ]
  },
  {
   "cell_type": "code",
   "execution_count": 9,
   "metadata": {},
   "outputs": [],
   "source": [
    "with torch.no_grad():\n",
    "    m -= 0.01 * m.grad\n",
    "    c -= 0.3 * c.grad"
   ]
  },
  {
   "cell_type": "code",
   "execution_count": 10,
   "metadata": {},
   "outputs": [
    {
     "data": {
      "text/plain": [
       "(tensor([5.0200], requires_grad=True), tensor([2.3000], requires_grad=True))"
      ]
     },
     "execution_count": 10,
     "metadata": {},
     "output_type": "execute_result"
    }
   ],
   "source": [
    "m,c"
   ]
  },
  {
   "cell_type": "code",
   "execution_count": 11,
   "metadata": {},
   "outputs": [
    {
     "data": {
      "text/plain": [
       "(tensor([-2.]), tensor([-1.]))"
      ]
     },
     "execution_count": 11,
     "metadata": {},
     "output_type": "execute_result"
    }
   ],
   "source": [
    "m.grad, c.grad"
   ]
  },
  {
   "cell_type": "code",
   "execution_count": 12,
   "metadata": {},
   "outputs": [
    {
     "data": {
      "text/plain": [
       "(tensor([0.]), tensor([0.]))"
      ]
     },
     "execution_count": 12,
     "metadata": {},
     "output_type": "execute_result"
    }
   ],
   "source": [
    "m.grad.zero_()\n",
    "c.grad.zero_()\n",
    "\n",
    "m.grad, c.grad"
   ]
  },
  {
   "cell_type": "code",
   "execution_count": 13,
   "metadata": {},
   "outputs": [
    {
     "data": {
      "text/plain": [
       "tensor([12.3400], grad_fn=<AddBackward0>)"
      ]
     },
     "execution_count": 13,
     "metadata": {},
     "output_type": "execute_result"
    }
   ],
   "source": [
    "y = m*x + c\n",
    "y"
   ]
  },
  {
   "cell_type": "code",
   "execution_count": 14,
   "metadata": {},
   "outputs": [
    {
     "data": {
      "text/plain": [
       "tensor(0.6600, grad_fn=<CopyBackwards>)"
      ]
     },
     "execution_count": 14,
     "metadata": {},
     "output_type": "execute_result"
    }
   ],
   "source": [
    "loss = torch.norm( y - 13)\n",
    "loss"
   ]
  },
  {
   "cell_type": "code",
   "execution_count": 15,
   "metadata": {},
   "outputs": [
    {
     "data": {
      "text/plain": [
       "(tensor([-2.]), tensor([-1.]))"
      ]
     },
     "execution_count": 15,
     "metadata": {},
     "output_type": "execute_result"
    }
   ],
   "source": [
    "loss.backward()\n",
    "m.grad, c.grad"
   ]
  },
  {
   "cell_type": "markdown",
   "metadata": {},
   "source": [
    "### Making it more compact"
   ]
  },
  {
   "cell_type": "code",
   "execution_count": 16,
   "metadata": {},
   "outputs": [],
   "source": [
    "def model_fn(x,m,c):\n",
    "    return m*x + c\n",
    "\n",
    "def loss_fn(y,yt):\n",
    "    return torch.norm(y-yt)"
   ]
  },
  {
   "cell_type": "code",
   "execution_count": 17,
   "metadata": {},
   "outputs": [],
   "source": [
    "m = torch.tensor([5.0], requires_grad = True)\n",
    "c = torch.tensor([2.0], requires_grad = True)"
   ]
  },
  {
   "cell_type": "code",
   "execution_count": 18,
   "metadata": {},
   "outputs": [],
   "source": [
    "x = torch.tensor([2.0])\n",
    "yt = torch.tensor([13.0])"
   ]
  },
  {
   "cell_type": "code",
   "execution_count": 19,
   "metadata": {},
   "outputs": [
    {
     "name": "stdout",
     "output_type": "stream",
     "text": [
      " m = tensor([5.1000], requires_grad=True)\n",
      " c = tensor([2.0500], requires_grad=True)\n",
      " y = tensor([12.], grad_fn=<AddBackward0>)\n",
      " loss = 1.0\n"
     ]
    }
   ],
   "source": [
    "y = model_fn(x,m,c)\n",
    "loss = loss_fn(y,yt)\n",
    "loss.backward()\n",
    "with torch.no_grad():\n",
    "    m -= 0.05 * m.grad\n",
    "    c -= 0.05 * c.grad\n",
    "m.grad.zero_()\n",
    "c.grad.zero_()\n",
    "\n",
    "print( f\" m = {m}\\n c = {c}\\n y = {y}\\n loss = {loss}\")\n",
    "#note that 'loss' indicates the loss for the previous m,c values"
   ]
  },
  {
   "cell_type": "markdown",
   "metadata": {},
   "source": [
    "Here's an explicit loop:"
   ]
  },
  {
   "cell_type": "code",
   "execution_count": 20,
   "metadata": {},
   "outputs": [
    {
     "name": "stdout",
     "output_type": "stream",
     "text": [
      "loss = 123.2157211303711\n",
      "loss = 99.48639678955078\n",
      "loss = 76.33134460449219\n",
      "loss = 54.369239807128906\n",
      "loss = 35.38062286376953\n",
      "loss = 24.25409507751465\n",
      "loss = 22.751705169677734\n",
      "loss = 22.747961044311523\n",
      "loss = 22.747936248779297\n",
      "loss = 22.747936248779297\n",
      "loss = 22.747936248779297\n",
      "loss = 22.747936248779297\n",
      "loss = 22.74793243408203\n",
      "loss = 22.747934341430664\n",
      "loss = 22.74793243408203\n",
      "loss = 22.74793243408203\n",
      "loss = 22.74793243408203\n",
      "loss = 22.74793243408203\n",
      "loss = 22.74793243408203\n",
      "loss = 22.74793243408203\n",
      "loss = 22.74793243408203\n",
      "loss = 22.74793243408203\n",
      "loss = 22.74793243408203\n",
      "loss = 22.74793243408203\n",
      "loss = 22.74793243408203\n",
      "loss = 22.74793243408203\n",
      "loss = 22.74793243408203\n",
      "loss = 22.74793243408203\n",
      "loss = 22.74793243408203\n",
      "loss = 22.74793243408203\n",
      "loss = 22.74793243408203\n",
      "loss = 22.74793243408203\n",
      "loss = 22.74793243408203\n",
      "loss = 22.74793243408203\n",
      "loss = 22.74793243408203\n",
      "loss = 22.74793243408203\n",
      "loss = 22.74793243408203\n",
      "loss = 22.74793243408203\n",
      "loss = 22.74793243408203\n",
      "loss = 22.74793243408203\n",
      "loss = 22.74793243408203\n",
      "loss = 22.74793243408203\n",
      "loss = 22.74793243408203\n",
      "loss = 22.74793243408203\n",
      "loss = 22.74793243408203\n",
      "loss = 22.74793243408203\n",
      "loss = 22.74793243408203\n",
      "loss = 22.74793243408203\n",
      "loss = 22.74793243408203\n",
      "loss = 22.74793243408203\n",
      "loss = 22.74793243408203\n",
      "loss = 22.74793243408203\n",
      "loss = 22.74793243408203\n",
      "loss = 22.74793243408203\n",
      "loss = 22.74793243408203\n",
      "loss = 22.74793243408203\n",
      "loss = 22.74793243408203\n",
      "loss = 22.74793243408203\n",
      "loss = 22.74793243408203\n",
      "loss = 22.74793243408203\n",
      "loss = 22.74793243408203\n",
      "loss = 22.74793243408203\n",
      "loss = 22.74793243408203\n",
      "loss = 22.74793243408203\n",
      "loss = 22.74793243408203\n",
      "loss = 22.74793243408203\n",
      "loss = 22.74793243408203\n",
      "loss = 22.74793243408203\n",
      "loss = 22.74793243408203\n",
      "loss = 22.74793243408203\n",
      "loss = 22.74793243408203\n",
      "loss = 22.74793243408203\n",
      "loss = 22.74793243408203\n",
      "loss = 22.74793243408203\n",
      "loss = 22.74793243408203\n",
      "loss = 22.74793243408203\n",
      "loss = 22.74793243408203\n",
      "loss = 22.74793243408203\n",
      "loss = 22.74793243408203\n",
      "loss = 22.74793243408203\n",
      "loss = 22.74793243408203\n",
      "loss = 22.74793243408203\n",
      "loss = 22.74793243408203\n",
      "loss = 22.74793243408203\n",
      "loss = 22.74793243408203\n",
      "loss = 22.74793243408203\n",
      "loss = 22.74793243408203\n",
      "loss = 22.74793243408203\n",
      "loss = 22.74793243408203\n",
      "loss = 22.74793243408203\n",
      "loss = 22.74793243408203\n",
      "loss = 22.74793243408203\n",
      "loss = 22.74793243408203\n",
      "loss = 22.74793243408203\n",
      "loss = 22.74793243408203\n",
      "loss = 22.74793243408203\n",
      "loss = 22.74793243408203\n",
      "loss = 22.74793243408203\n",
      "loss = 22.74793243408203\n",
      "loss = 22.74793243408203\n"
     ]
    },
    {
     "data": {
      "image/png": "[encoded data removed]",
      "text/plain": [
       "<Figure size 432x288 with 1 Axes>"
      ]
     },
     "metadata": {
      "needs_background": "light"
     },
     "output_type": "display_data"
    }
   ],
   "source": [
    "x = torch.randn(5,100)\n",
    "yt = torch.randn(1,100)\n",
    "losses = []\n",
    "\n",
    "for i in range(100):\n",
    "    y = model_fn(x,m,c)\n",
    "    loss = loss_fn(y,yt)\n",
    "    loss.backward()\n",
    "    with torch.no_grad():\n",
    "        m -= 0.05 * m.grad\n",
    "        c -= 0.05 * c.grad\n",
    "    m.grad.zero_()\n",
    "    c.grad.zero_()\n",
    "\n",
    "    losses+=[loss.item()]\n",
    "    print( f\"loss = {loss}\")\n",
    "\n",
    "plt.plot(losses);"
   ]
  },
  {
   "cell_type": "markdown",
   "metadata": {},
   "source": [
    "## Using Library functions\n",
    "\n",
    "The subpackage `torch.nn` provides an object-oriented library of functions that can be composed together.\n"
   ]
  },
  {
   "cell_type": "code",
   "execution_count": 21,
   "metadata": {},
   "outputs": [],
   "source": [
    "model = torch.nn.Sequential(\n",
    "    torch.nn.Linear(5, 5), # 5 x 5 matrix\n",
    "    torch.nn.ReLU(),       # ReLU nonlinearity\n",
    "    torch.nn.Linear(5, 5), # 5 x 5 matrix\n",
    ")"
   ]
  },
  {
   "cell_type": "code",
   "execution_count": 22,
   "metadata": {},
   "outputs": [
    {
     "data": {
      "text/plain": [
       "[Parameter containing:\n",
       " tensor([[ 0.3316,  0.1522,  0.2492, -0.2992,  0.4102],\n",
       "         [-0.3598,  0.1222, -0.3902, -0.2934, -0.3457],\n",
       "         [-0.2198,  0.2152,  0.3994, -0.3181, -0.0516],\n",
       "         [-0.2023,  0.0867,  0.3717,  0.1664, -0.2102],\n",
       "         [ 0.4042, -0.3993, -0.3191, -0.2141, -0.2772]], requires_grad=True),\n",
       " Parameter containing:\n",
       " tensor([-0.4013,  0.2950,  0.1151, -0.2628,  0.2941], requires_grad=True),\n",
       " Parameter containing:\n",
       " tensor([[-0.3463,  0.3572,  0.3492, -0.3008, -0.2829],\n",
       "         [ 0.2310, -0.4222,  0.3614, -0.2791, -0.0441],\n",
       "         [ 0.3478,  0.1490, -0.2911,  0.3047, -0.2649],\n",
       "         [-0.1012,  0.0829, -0.4061,  0.2447,  0.3126],\n",
       "         [ 0.2993,  0.0131,  0.1135, -0.3588,  0.2828]], requires_grad=True),\n",
       " Parameter containing:\n",
       " tensor([-0.2317, -0.3994,  0.1748,  0.2988, -0.1613], requires_grad=True)]"
      ]
     },
     "execution_count": 22,
     "metadata": {},
     "output_type": "execute_result"
    }
   ],
   "source": [
    "list(model.parameters())"
   ]
  },
  {
   "cell_type": "code",
   "execution_count": 23,
   "metadata": {},
   "outputs": [],
   "source": [
    "loss_fn = torch.nn.MSELoss(reduction='sum')"
   ]
  },
  {
   "cell_type": "markdown",
   "metadata": {},
   "source": [
    "In this case, we'll just fit the model to random data."
   ]
  },
  {
   "cell_type": "code",
   "execution_count": 25,
   "metadata": {},
   "outputs": [],
   "source": [
    "x = torch.randn(100,5)\n",
    "yt = torch.randn(100,5)\n",
    "losses = []"
   ]
  },
  {
   "cell_type": "markdown",
   "metadata": {},
   "source": [
    "Optimizers in `torch.optim` implement a variety of optimization strategies.  Almost all are based on gradient descent, since forming Hessians is prohibitive."
   ]
  },
  {
   "cell_type": "code",
   "execution_count": 28,
   "metadata": {},
   "outputs": [],
   "source": [
    "optimizer = torch.optim.Adam(model.parameters(), lr=0.03)"
   ]
  },
  {
   "cell_type": "code",
   "execution_count": 30,
   "metadata": {},
   "outputs": [
    {
     "name": "stdout",
     "output_type": "stream",
     "text": [
      "loss = 432.11285400390625\n",
      "loss = 432.1269226074219\n",
      "loss = 432.1133728027344\n",
      "loss = 432.1142578125\n",
      "loss = 432.1257019042969\n",
      "loss = 432.1229248046875\n",
      "loss = 432.13800048828125\n",
      "loss = 432.10772705078125\n",
      "loss = 432.1046447753906\n",
      "loss = 432.154541015625\n",
      "loss = 432.12225341796875\n",
      "loss = 432.10784912109375\n",
      "loss = 432.1551513671875\n",
      "loss = 432.1158142089844\n",
      "loss = 432.1353454589844\n",
      "loss = 432.1211242675781\n",
      "loss = 432.1257019042969\n",
      "loss = 432.11083984375\n",
      "loss = 432.12322998046875\n",
      "loss = 432.0851745605469\n",
      "loss = 432.0941162109375\n",
      "loss = 432.1318054199219\n",
      "loss = 432.1329345703125\n",
      "loss = 432.130859375\n",
      "loss = 432.1982116699219\n",
      "loss = 432.1083679199219\n",
      "loss = 432.2474060058594\n",
      "loss = 432.24249267578125\n",
      "loss = 432.15167236328125\n",
      "loss = 432.2353515625\n",
      "loss = 432.1801452636719\n",
      "loss = 432.15069580078125\n",
      "loss = 432.195068359375\n",
      "loss = 432.19140625\n",
      "loss = 432.1322021484375\n",
      "loss = 432.28363037109375\n",
      "loss = 432.14068603515625\n",
      "loss = 432.22784423828125\n",
      "loss = 432.1725769042969\n",
      "loss = 432.1201171875\n",
      "loss = 432.16229248046875\n",
      "loss = 432.13134765625\n",
      "loss = 432.1106872558594\n",
      "loss = 432.1211242675781\n",
      "loss = 432.1227111816406\n",
      "loss = 432.13153076171875\n",
      "loss = 432.1420593261719\n",
      "loss = 432.125732421875\n",
      "loss = 432.1514587402344\n",
      "loss = 432.11346435546875\n",
      "loss = 432.14105224609375\n",
      "loss = 432.1415710449219\n",
      "loss = 432.11651611328125\n",
      "loss = 432.12127685546875\n",
      "loss = 432.1683349609375\n",
      "loss = 432.10308837890625\n",
      "loss = 432.13079833984375\n",
      "loss = 432.0877990722656\n",
      "loss = 432.15673828125\n",
      "loss = 432.17340087890625\n",
      "loss = 432.1541748046875\n",
      "loss = 432.11273193359375\n",
      "loss = 432.15594482421875\n",
      "loss = 432.1427917480469\n",
      "loss = 432.1169128417969\n",
      "loss = 432.10809326171875\n",
      "loss = 432.1319885253906\n",
      "loss = 432.1121520996094\n",
      "loss = 432.1141357421875\n",
      "loss = 432.1002197265625\n",
      "loss = 432.09686279296875\n",
      "loss = 432.155029296875\n",
      "loss = 432.1081848144531\n",
      "loss = 432.1214599609375\n",
      "loss = 432.11688232421875\n",
      "loss = 432.1337585449219\n",
      "loss = 432.13427734375\n",
      "loss = 432.1278076171875\n",
      "loss = 432.18560791015625\n",
      "loss = 432.2113952636719\n",
      "loss = 432.0914611816406\n",
      "loss = 432.1741027832031\n",
      "loss = 432.17205810546875\n",
      "loss = 432.1813049316406\n",
      "loss = 432.166748046875\n",
      "loss = 432.22247314453125\n",
      "loss = 432.14013671875\n",
      "loss = 432.1714172363281\n",
      "loss = 432.14459228515625\n",
      "loss = 432.1617431640625\n",
      "loss = 432.11053466796875\n",
      "loss = 432.1317443847656\n",
      "loss = 432.16522216796875\n",
      "loss = 432.1226501464844\n",
      "loss = 432.1714782714844\n",
      "loss = 432.15087890625\n",
      "loss = 432.13763427734375\n",
      "loss = 432.167236328125\n",
      "loss = 432.12109375\n",
      "loss = 432.1177062988281\n"
     ]
    },
    {
     "data": {
      "image/png": "[encoded data removed]",
      "text/plain": [
       "<Figure size 432x288 with 1 Axes>"
      ]
     },
     "metadata": {
      "needs_background": "light"
     },
     "output_type": "display_data"
    }
   ],
   "source": [
    "for i in range(100):\n",
    "    y = model(x)\n",
    "    loss = loss_fn(y,yt)\n",
    "    loss.backward()\n",
    "\n",
    "    optimizer.step()\n",
    "    optimizer.zero_grad()\n",
    "\n",
    "    losses+=[loss.item()]\n",
    "    print( f\"loss = {loss}\")\n",
    "    \n",
    "plt.plot(losses);"
   ]
  },
  {
   "cell_type": "markdown",
   "metadata": {},
   "source": [
    "## MNIST Example\n",
    "\n",
    "First, you'll want to install the `torchvision` package - this is a package for PyTorch that provides a variety of computer vision functionality.\n",
    "\n",
    "The [MNIST data set](http://yann.lecun.com/exdb/mnist/) consists of a collection of handwritten digits (0-9).  Our goal is to train a neural net which will classify the image of each digit as the correct digit\n",
    "\n",
    "```\n",
    "conda install torchvision -c pytorch\n",
    "```"
   ]
  },
  {
   "cell_type": "code",
   "execution_count": 31,
   "metadata": {},
   "outputs": [],
   "source": [
    "import torchvision"
   ]
  },
  {
   "cell_type": "code",
   "execution_count": 32,
   "metadata": {},
   "outputs": [],
   "source": [
    "from torchvision.datasets import MNIST"
   ]
  },
  {
   "cell_type": "code",
   "execution_count": 33,
   "metadata": {},
   "outputs": [],
   "source": [
    "data = MNIST(\".\",download=True)"
   ]
  },
  {
   "cell_type": "code",
   "execution_count": 34,
   "metadata": {},
   "outputs": [
    {
     "data": {
      "text/plain": [
       "60000"
      ]
     },
     "execution_count": 34,
     "metadata": {},
     "output_type": "execute_result"
    }
   ],
   "source": [
    "len(data)"
   ]
  },
  {
   "cell_type": "code",
   "execution_count": 35,
   "metadata": {},
   "outputs": [
    {
     "name": "stdout",
     "output_type": "stream",
     "text": [
      "1\n"
     ]
    },
    {
     "data": {
      "image/png": "[encoded data removed]",
      "text/plain": [
       "<PIL.Image.Image image mode=L size=28x28 at 0x7FC272127370>"
      ]
     },
     "execution_count": 35,
     "metadata": {},
     "output_type": "execute_result"
    }
   ],
   "source": [
    "import numpy as np\n",
    "img,y = data[np.random.randint(1,60000)]\n",
    "print(y)\n",
    "img"
   ]
  },
  {
   "cell_type": "code",
   "execution_count": 36,
   "metadata": {},
   "outputs": [
    {
     "name": "stderr",
     "output_type": "stream",
     "text": [
      "/home/brad/miniconda3/envs/pycourse/lib/python3.8/site-packages/torchvision/datasets/mnist.py:58: UserWarning: train_data has been renamed data\n",
      "  warnings.warn(\"train_data has been renamed data\")\n"
     ]
    },
    {
     "data": {
      "text/plain": [
       "torch.Size([28, 28])"
      ]
     },
     "execution_count": 36,
     "metadata": {},
     "output_type": "execute_result"
    }
   ],
   "source": [
    "data.train_data[2].shape"
   ]
  },
  {
   "cell_type": "code",
   "execution_count": 37,
   "metadata": {},
   "outputs": [
    {
     "name": "stderr",
     "output_type": "stream",
     "text": [
      "/home/brad/miniconda3/envs/pycourse/lib/python3.8/site-packages/torchvision/datasets/mnist.py:48: UserWarning: train_labels has been renamed targets\n",
      "  warnings.warn(\"train_labels has been renamed targets\")\n"
     ]
    },
    {
     "data": {
      "text/plain": [
       "tensor(4)"
      ]
     },
     "execution_count": 37,
     "metadata": {},
     "output_type": "execute_result"
    }
   ],
   "source": [
    "data.train_labels[2]"
   ]
  },
  {
   "cell_type": "markdown",
   "metadata": {},
   "source": [
    "### MNIST Training"
   ]
  },
  {
   "cell_type": "code",
   "execution_count": 38,
   "metadata": {},
   "outputs": [],
   "source": [
    "model = torch.nn.Sequential(\n",
    "    torch.nn.Linear(784, 100),\n",
    "    torch.nn.ReLU(),\n",
    "    torch.nn.Linear(100, 100),\n",
    "    torch.nn.ReLU(),\n",
    "    torch.nn.Linear(100, 10),\n",
    ")"
   ]
  },
  {
   "cell_type": "code",
   "execution_count": 39,
   "metadata": {},
   "outputs": [],
   "source": [
    "loss_fn = torch.nn.CrossEntropyLoss()"
   ]
  },
  {
   "cell_type": "code",
   "execution_count": 40,
   "metadata": {},
   "outputs": [],
   "source": [
    "sample = np.random.choice(range(len(data.train_data)),1000)\n",
    "x = data.train_data[sample].reshape(1000,-1).float()/255\n",
    "yt = data.train_labels[sample]"
   ]
  },
  {
   "cell_type": "code",
   "execution_count": 41,
   "metadata": {},
   "outputs": [
    {
     "data": {
      "text/plain": [
       "(torch.Size([1000, 784]), torch.Size([1000]))"
      ]
     },
     "execution_count": 41,
     "metadata": {},
     "output_type": "execute_result"
    }
   ],
   "source": [
    "x.shape,yt.shape"
   ]
  },
  {
   "cell_type": "code",
   "execution_count": 42,
   "metadata": {},
   "outputs": [],
   "source": [
    "optimizer = torch.optim.Adam(model.parameters(), lr=0.03)\n",
    "losses = []"
   ]
  },
  {
   "cell_type": "code",
   "execution_count": 43,
   "metadata": {},
   "outputs": [
    {
     "data": {
      "image/png": "[encoded data removed]",
      "text/plain": [
       "<Figure size 432x288 with 1 Axes>"
      ]
     },
     "metadata": {
      "needs_background": "light"
     },
     "output_type": "display_data"
    }
   ],
   "source": [
    "for i in range(100):\n",
    "    \n",
    "    sample = np.random.choice(range(len(data.train_data)),1000)\n",
    "    x = data.train_data[sample].reshape(1000,-1).float()/255\n",
    "    yt = data.train_labels[sample]\n",
    "    \n",
    "    y = model(x)\n",
    "    loss = loss_fn(y,yt)\n",
    "    loss.backward()\n",
    "\n",
    "    optimizer.step()\n",
    "    optimizer.zero_grad()\n",
    "\n",
    "    losses+=[loss.item()]\n",
    "    #print( f\"loss = {loss}\")\n",
    "plt.plot(losses);"
   ]
  },
  {
   "cell_type": "code",
   "execution_count": 44,
   "metadata": {},
   "outputs": [],
   "source": [
    "x_test = data.train_data[-1000:].reshape(1000,-1).float()/255\n",
    "y_test = data.train_labels[-1000:]"
   ]
  },
  {
   "cell_type": "code",
   "execution_count": 45,
   "metadata": {},
   "outputs": [],
   "source": [
    "with torch.no_grad():\n",
    "    y_pred = model(x_test)"
   ]
  },
  {
   "cell_type": "code",
   "execution_count": 46,
   "metadata": {},
   "outputs": [
    {
     "name": "stdout",
     "output_type": "stream",
     "text": [
      "Accuracy =  0.978\n"
     ]
    }
   ],
   "source": [
    "print(\"Accuracy = \", (y_pred.argmax(dim=1) == y_test).sum().float().item()/1000.0)"
   ]
  },
  {
   "cell_type": "markdown",
   "metadata": {},
   "source": [
    "### Credits\n",
    "\n",
    "This notebook was adapted from a notebook from [CME 193 at Stanford](https://github.com/icme/cme193)"
   ]
  },
  {
   "cell_type": "code",
   "execution_count": null,
   "metadata": {},
   "outputs": [],
   "source": []
  }
 ],
 "metadata": {
  "kernelspec": {
   "display_name": "Python (pycourse)",
   "language": "python",
   "name": "pycourse"
  },
  "language_info": {
   "codemirror_mode": {
    "name": "ipython",
    "version": 3
   },
   "file_extension": ".py",
   "mimetype": "text/x-python",
   "name": "python",
   "nbconvert_exporter": "python",
   "pygments_lexer": "ipython3",
   "version": "3.8.17"
  }
 },
 "nbformat": 4,
 "nbformat_minor": 4
}
