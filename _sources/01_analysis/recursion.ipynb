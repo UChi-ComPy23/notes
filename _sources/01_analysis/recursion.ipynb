{
 "cells": [
  {
   "cell_type": "markdown",
   "metadata": {},
   "source": [
    "# Recursion\n",
    "\n",
    "## Recursive Functions\n",
    "\n",
    "**Definition 1** A function is recursive if it is recursive.\n",
    "\n",
    "**Definition 2** A function is recursive if it refers to itself.\n",
    "\n",
    "It is probably easier to see some examples."
   ]
  },
  {
   "cell_type": "markdown",
   "metadata": {},
   "source": [
    "## Divide and Conquer\n",
    "\n",
    "A common situation in which recursion is used is in *Divide and Conquer* algorithms.\n",
    "\n",
    "The basic idea is to break up a problem into two (or more) sub-problems and combine the answer to get the final solution"
   ]
  },
  {
   "cell_type": "markdown",
   "metadata": {},
   "source": [
    "### Finding the maximum element of a list\n",
    "\n",
    "One way to find the maximum element of a list `A` is to find the maximum element in the first half of the list, and find the maximum element in the second half of the list, and then take the maximum of these two values.\n",
    "\n",
    "How do we find the maximum element of each half of the list?  We can use this function recursively to break up the problem into smaller and smaller pieces.\n",
    "\n",
    "At some point, the pieces will be trivial to solve.  In this case, we don't recurse further, we just solve the problem explicitly.  For this problem, we'll just solve the problem directly if the list is length 3 or less by using the built-in `max` function:"
   ]
  },
  {
   "cell_type": "code",
   "execution_count": 3,
   "metadata": {},
   "outputs": [
    {
     "data": {
      "text/plain": [
       "2"
      ]
     },
     "execution_count": 3,
     "metadata": {},
     "output_type": "execute_result"
    }
   ],
   "source": [
    "max(1,2)"
   ]
  },
  {
   "cell_type": "code",
   "execution_count": 4,
   "metadata": {},
   "outputs": [
    {
     "data": {
      "text/plain": [
       "99"
      ]
     },
     "execution_count": 4,
     "metadata": {},
     "output_type": "execute_result"
    }
   ],
   "source": [
    "def maximum(A):\n",
    "    \"\"\"\n",
    "    find the maximum element of a list A recursively\n",
    "    \"\"\"\n",
    "    # check if the list is short enough to do explicitly\n",
    "    if len(A) < 4:\n",
    "        return max(A)\n",
    "\n",
    "    # else, we will use recursion to solve the problem\n",
    "    n = len(A) // 2 # partition the list into two halves here\n",
    "    max1 = maximum(A[:n]) # left half\n",
    "    max2 = maximum(A[n:]) # right half\n",
    "    \n",
    "    return max(max1, max2)\n",
    "    \n",
    "A = list(range(100))\n",
    "maximum(A)"
   ]
  },
  {
   "cell_type": "markdown",
   "metadata": {},
   "source": [
    "\n",
    "### Mergesort \n",
    "\n",
    "[Mergesort](https://en.wikipedia.org/wiki/Merge_sort) is an example of a sorting algorithm.  The input is a list `a`, and the output is a list `b` which has the same elements as `a`, but appearing in sorted order.\n",
    "\n",
    "Python has the `sorted` function built-in to sort iterables like lists:"
   ]
  },
  {
   "cell_type": "code",
   "execution_count": 5,
   "metadata": {},
   "outputs": [
    {
     "data": {
      "text/plain": [
       "[1, 2, 3]"
      ]
     },
     "execution_count": 5,
     "metadata": {},
     "output_type": "execute_result"
    }
   ],
   "source": [
    "a = [2,3,1]\n",
    "sorted(a)"
   ]
  },
  {
   "cell_type": "markdown",
   "metadata": {},
   "source": [
    "There are a variety of sorting algorithms which use different techniques.\n",
    "\n",
    "Merge sort uses the observation that if two arrays `a1` and `a2` are already sorted, that it is easy to merge the two arrays into a single sorted array in a single loop"
   ]
  },
  {
   "cell_type": "code",
   "execution_count": 6,
   "metadata": {},
   "outputs": [
    {
     "data": {
      "text/plain": [
       "[0, 1, 2, 3, 4, 5]"
      ]
     },
     "execution_count": 6,
     "metadata": {},
     "output_type": "execute_result"
    }
   ],
   "source": [
    "def merge(a1, a2):\n",
    "    \"\"\"\n",
    "    merge sorted lists a1 and a2 into a sorted list b\n",
    "    \"\"\"\n",
    "    b = []\n",
    "    i1 = 0\n",
    "    i2 = 0\n",
    "    # insert the smallest element into b\n",
    "    while (i1 < len(a1) and i2 < len(a2)):\n",
    "        if a1[i1] < a2[i2]:\n",
    "            b.append(a1[i1])\n",
    "            i1 = i1 + 1\n",
    "        else:\n",
    "            b.append(a2[i2])\n",
    "            i2 = i2 + 1\n",
    "            \n",
    "    # at most one of the following while-loops will do anything\n",
    "    while (i1 < len(a1)):\n",
    "        b.append(a1[i1])\n",
    "        i1 = i1 + 1\n",
    "        \n",
    "    while (i2 < len(a2)):\n",
    "        b.append(a2[i2])\n",
    "        i2 = i2 + 1\n",
    "        \n",
    "    return b\n",
    "\n",
    "merge([1,3,4], [0,2,5])"
   ]
  },
  {
   "cell_type": "markdown",
   "metadata": {},
   "source": [
    "The divide-and-conquer strategy is to start with an input list `a`, sort the left and right halves, and then merge the two halves to sort `a`.  We can employ recursion by using merge sort to sort each half. By definition, an list with 1 or no elements is already sorted."
   ]
  },
  {
   "cell_type": "code",
   "execution_count": 7,
   "metadata": {},
   "outputs": [
    {
     "data": {
      "text/plain": [
       "[0, 1, 2, 3, 4, 5, 6]"
      ]
     },
     "execution_count": 7,
     "metadata": {},
     "output_type": "execute_result"
    }
   ],
   "source": [
    "def mergesort(a):\n",
    "    \"\"\"\n",
    "    sort a using merge-sort algorithm\n",
    "    \"\"\"\n",
    "    # if a has 1 or zero elements, it is already sorted\n",
    "    if len(a) < 2:\n",
    "        return a\n",
    "    k = len(a) // 2\n",
    "    L = a[:k] # left half\n",
    "    R = a[k:] # right half\n",
    "    \n",
    "    # recurse to sort L and R\n",
    "    L = mergesort(L)\n",
    "    R = mergesort(R)\n",
    "    \n",
    "    # now merge L and R\n",
    "    a = merge(L, R)\n",
    "    return a\n",
    "    \n",
    "    \n",
    "mergesort([6,5,4,3,2,1,0])"
   ]
  },
  {
   "cell_type": "markdown",
   "metadata": {},
   "source": [
    "### Quicksort\n",
    "\n",
    "[Quicksort](https://en.wikipedia.org/wiki/Quicksort) was named by SIAM editors as one of the [top-10 algorithms of the 20th century](https://archive.siam.org/pdf/news/637.pdf).  Like mergesort, it also uses a divide and conquer strategy.\n",
    "\n",
    "Quicksort works by partitioning a list into two halves divided by a *pivot*.  All elements less than the pivot are moved to the first part of the list, and all elements greater than the pivot are moved to the second part of the list."
   ]
  },
  {
   "cell_type": "code",
   "execution_count": 8,
   "metadata": {},
   "outputs": [
    {
     "name": "stdout",
     "output_type": "stream",
     "text": [
      "[1, 2, 3]\n",
      "[3, 2, 1]\n"
     ]
    }
   ],
   "source": [
    "def swap(a, i, j):\n",
    "    \"\"\"\n",
    "    swap elements i and j in-place in list a\n",
    "    \"\"\"\n",
    "    a[i], a[j] = a[j], a[i]\n",
    "\n",
    "a = [1,2,3]\n",
    "print(a)\n",
    "swap(a, 0, 2)\n",
    "print(a)"
   ]
  },
  {
   "cell_type": "code",
   "execution_count": 9,
   "metadata": {},
   "outputs": [],
   "source": [
    "from numpy.random import randint"
   ]
  },
  {
   "cell_type": "code",
   "execution_count": 10,
   "metadata": {},
   "outputs": [
    {
     "data": {
      "text/plain": [
       "[0, 1, 2, 3, 4, 5, 6]"
      ]
     },
     "execution_count": 10,
     "metadata": {},
     "output_type": "execute_result"
    }
   ],
   "source": [
    "def partition(a, lo, hi):\n",
    "    \"\"\"\n",
    "    choose a pivot in a[lo:hi+1] randomly\n",
    "    swap all elements of a[lo:hi+1] less than the pivot value to appear before the pivot\n",
    "    swap all elements of a[lo:hi+1] greater than the pivot value to appear after the pivot\n",
    "    \"\"\"\n",
    "    pi = randint(lo, hi+1) # pivot index\n",
    "    swap(a, pi, hi) # put pivot index in last position\n",
    "    pivot = a[hi]\n",
    "    i = lo # i is the pivot index for elements we have seen so far\n",
    "    for j in range(lo, hi+1):\n",
    "        if a[j] < pivot:\n",
    "            swap(a, i, j)\n",
    "            i = i+1 # increment pivot index\n",
    "    swap(a, i, hi) # put pivot in correct place\n",
    "    return i\n",
    "\n",
    "def quicksort(a, lo=0, hi=None):\n",
    "    \"\"\"\n",
    "    perform quicksort algorithm on array a\n",
    "    performs operations in-place\n",
    "    \"\"\"\n",
    "    if hi is None:\n",
    "        hi = len(a) - 1\n",
    "        \n",
    "    if lo < hi:\n",
    "        i = partition(a, lo, hi)\n",
    "        quicksort(a, lo, i-1) # recurse on lower half\n",
    "        quicksort(a, i+1, hi) # recurse on higher half\n",
    "        \n",
    "    return a\n",
    "\n",
    "quicksort([6,5,4,3,2,1,0])"
   ]
  },
  {
   "cell_type": "markdown",
   "metadata": {},
   "source": [
    "### Binary Search\n",
    "\n",
    "Binary search seeks to find where an element `x` appears in a sorted list `a`. The divide and conquer idea is to look at the element `i=n//2` of the center of the list.  If `x = a[i]` then we're done.  Otherwise, we can recurse into either the left-hand or right-hand side of the list depending on whether `x<a[i]` or `x>a[i]`.  We should also handle the case where `x` does not appear in the list - in this case, we return `-1`."
   ]
  },
  {
   "cell_type": "code",
   "execution_count": 14,
   "metadata": {},
   "outputs": [
    {
     "data": {
      "text/plain": [
       "3"
      ]
     },
     "execution_count": 14,
     "metadata": {},
     "output_type": "execute_result"
    }
   ],
   "source": [
    "def binary_search(a, x, lo=0, hi=None):\n",
    "    \"\"\"\n",
    "    find the position of x in a sorted list a.\n",
    "    If x is not in a, return -1\n",
    "    \"\"\"\n",
    "    if hi is None:\n",
    "        hi = len(a) - 1\n",
    "        \n",
    "    if lo > hi:\n",
    "        return -1 # element not in array\n",
    "        \n",
    "    i = (hi - lo) // 2 + lo\n",
    "    if a[i] == x:\n",
    "        return i\n",
    "    elif a[i] < x:\n",
    "        return binary_search(a, x, i+1, hi) # recurse on right half\n",
    "    else:\n",
    "        return binary_search(a, x, lo, i-1) # recurse on left half\n",
    "    \n",
    "    \n",
    "binary_search([0,1,2,3,4,5], 3)"
   ]
  },
  {
   "cell_type": "markdown",
   "metadata": {},
   "source": [
    "## Analysis of Recursive Algorithms\n",
    "\n",
    "Recursive algorithms are usually easy to implement, but they aren't always fast.  You'll see an example in homework 0."
   ]
  },
  {
   "cell_type": "markdown",
   "metadata": {},
   "source": [
    "On the other hand, `mergesort` has optimal asymptotic complexity for a sorting algorithm: $O(n\\log n)$\n",
    "\n",
    "if `quicksort` is very unlucky with choice of pivot, it can take $O(n^2)$ time, but its expected runtime is $O(n \\log n)$.  It also does all operations in-place, unlike `mergesort`, which uses auxillary memory.\n",
    "\n",
    "### The Master Theorem\n",
    "\n",
    "The [master theorem](https://en.wikipedia.org/wiki/Master_theorem_(analysis_of_algorithms)) helps us to obtain asymptotic time complexity for divide and conquer algorithms.  The first step is to write down the time it takes to run a function on input size $n$, $T(n)$, in terms of the time it takes to run subproblems\n",
    "$$ T(n) = a T(n/b) + f(n)$$\n",
    "where $f(n)$ is the work done to stitch the subproblems together.\n",
    "\n",
    "The critical exponent is defined as $c = \\log_b a$.  The amount of work to complete all _trivial_ subproblems is $\\Theta(n^c)$.  There are three regimes:\n",
    "1. $f(n) = o(n^c)$.  In this case, the work to do the subproblems dominate, and the time complexity is $T(n) = \\Theta(n^c)$.\n",
    "2. $f(n) = \\Theta(n^c)$.  In this case, the work to do subproblems and combine them is comparible.  The complexity is $T(n) = \\Theta(n^c \\log n)$\n",
    "3. $f(n) = \\omega(n^c)$.  In this case, the work to combine subproblems dominates, and the complexity is $T(n) = \\Theta(f(n))$.\n",
    "\n",
    "For example, in our `maximum` function, we split into two subproblems of size $n/2$, so $a = 2, b=2$, and $c = 1$.  $f(n)$ is the time to take the max of two numbers, so is $O(1)$.  This means we are in case 1 above, and the time complexity of `maximum` is $\\Theta(n^c) = \\Theta(n)$."
   ]
  },
  {
   "cell_type": "markdown",
   "metadata": {},
   "source": [
    "### Analysis of Binary Search\n",
    "\n",
    "Let's apply the Master theorem to our `binary_search` function.  It takes a constant amount of work to compute the center index of the array `a` between `lo` and `hi`, and perform the comparison of `a[i]` with `x`.  We then recurse into (at most) one subproblem of half the size.  So in the above expression, $a = 1$, $b = 2$, and $f(n)$ is $O(1)$.  $c = \\log_2 1 = 0$ so $n^c$ is $O(1)$ and thus $f(n) = \\Theta(n^c)$.  We can conclude that the time complexity of `binary_search` is $\\Theta(n^c \\log n) = \\Theta(\\log n)$."
   ]
  },
  {
   "cell_type": "markdown",
   "metadata": {},
   "source": [
    "### Exercise\n",
    "\n",
    "Apply the master theorem to obtain the complexity of merge sort."
   ]
  },
  {
   "cell_type": "code",
   "execution_count": null,
   "metadata": {},
   "outputs": [],
   "source": []
  },
  {
   "cell_type": "markdown",
   "metadata": {},
   "source": [
    "$O(n\\log n)$"
   ]
  },
  {
   "cell_type": "markdown",
   "metadata": {},
   "source": [
    "### Exercise\n",
    "\n",
    "Implement the correlation coefficient defined in [this paper](https://www-tandfonline-com.proxy.uchicago.edu/doi/full/10.1080/01621459.2020.1758115)"
   ]
  },
  {
   "cell_type": "code",
   "execution_count": 13,
   "metadata": {},
   "outputs": [
    {
     "name": "stdout",
     "output_type": "stream",
     "text": [
      "0.997002997002997\n",
      "0.997002997002997\n",
      "0.9970030149309796\n",
      "0.015975015975015938\n",
      "-0.028098028098028083\n"
     ]
    }
   ],
   "source": [
    "import numpy as np\n",
    "def newCorr(X_fun,Y_fun):\n",
    "    n = int(1e3)\n",
    "    \n",
    "    XY_array = [(X_fun(i),Y_fun(i)) for i in range(n)]\n",
    "    \n",
    "    XY_array_sorted = sorted(XY_array)\n",
    "    \n",
    "    def R(s,i):\n",
    "        cnt = 0\n",
    "        for element in s:\n",
    "            if element[1] <= s[i-1][1]:\n",
    "                cnt = cnt +1\n",
    "        return cnt\n",
    "    \n",
    "    def L(s,i):\n",
    "        cnt = 0\n",
    "        for element in s:\n",
    "            if element[1] >= s[i-1][1]:\n",
    "                cnt = cnt +1\n",
    "        return cnt\n",
    "    # corr2 = 1 - 3 * np.sum([np.abs(R(XY_array_sorted,i+1) - R(XY_array_sorted,i)) for i in range(1,n)]) / (n**2 - 1)\n",
    "    \n",
    "    \n",
    "    corr = 1 - (n/2) * np.sum([np.abs(R(XY_array_sorted,i+1) - R(XY_array_sorted,i)) for i in range(1,n)]) \\\n",
    "                / sum([L(XY_array_sorted,i) * (n - L(XY_array_sorted,i)) for i in range(1,n+1)])\n",
    "    return corr\n",
    "\n",
    "def fun1(i):\n",
    "    return i\n",
    "\n",
    "def fun2(i):\n",
    "    return i**2\n",
    "\n",
    "def fun3(i):\n",
    "    return np.log(i**2+5*i+3)/(i+1)\n",
    "\n",
    "def fun4(i):\n",
    "    return np.random.rand()\n",
    "\n",
    "print(newCorr(fun1,fun1)); # Y is a measurable function of X\n",
    "print(newCorr(fun1,fun2)); # Y is a measurable function of X\n",
    "print(newCorr(fun1,fun3)); # Y is a measurable function of X\n",
    "print(newCorr(fun1,fun4)); # X and Y are independent\n",
    "print(newCorr(fun4,fun4)); # X and Y are independent"
   ]
  },
  {
   "cell_type": "markdown",
   "metadata": {},
   "source": [
    "## Tail Recursion\n",
    "\n",
    "TODO: this isn't handled by the Python interpreter, but you can do it yourself!"
   ]
  },
  {
   "cell_type": "code",
   "execution_count": null,
   "metadata": {},
   "outputs": [],
   "source": []
  },
  {
   "cell_type": "markdown",
   "metadata": {},
   "source": [
    "## Memoization\n",
    "\n",
    "TODO: example on Fibonacci"
   ]
  },
  {
   "cell_type": "code",
   "execution_count": null,
   "metadata": {},
   "outputs": [],
   "source": []
  }
 ],
 "metadata": {
  "kernelspec": {
   "display_name": "Python (pycourse)",
   "language": "python",
   "name": "pycourse"
  },
  "language_info": {
   "codemirror_mode": {
    "name": "ipython",
    "version": 3
   },
   "file_extension": ".py",
   "mimetype": "text/x-python",
   "name": "python",
   "nbconvert_exporter": "python",
   "pygments_lexer": "ipython3",
   "version": "3.8.3"
  }
 },
 "nbformat": 4,
 "nbformat_minor": 4
}
