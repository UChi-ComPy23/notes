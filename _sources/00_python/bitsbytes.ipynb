{
 "cells": [
  {
   "cell_type": "markdown",
   "metadata": {},
   "source": [
    "# Bits, Bytes, and Numbers\n",
    "\n",
    "\n",
    "In order to do math on a computer, you should have some idea of how computers represent numbers and do computations.\n",
    "\n",
    "Unlike strongly typed languages (e.g. C), you don't have to worry too much about type if you're just scripting.  However, you will have to think about this for many algorithms in scientific computing."
   ]
  },
  {
   "cell_type": "code",
   "execution_count": 1,
   "metadata": {},
   "outputs": [
    {
     "name": "stdout",
     "output_type": "stream",
     "text": [
      "<class 'int'>\n",
      "<class 'float'>\n"
     ]
    }
   ],
   "source": [
    "x = 5 # an integer type\n",
    "print(type(x))\n",
    "x = 5.0 # float type\n",
    "print(type(x))"
   ]
  },
  {
   "cell_type": "code",
   "execution_count": 2,
   "metadata": {},
   "outputs": [
    {
     "name": "stdout",
     "output_type": "stream",
     "text": [
      "1.3333333333333333\n",
      "1\n"
     ]
    }
   ],
   "source": [
    "print(4/3)  # division of ints -> float\n",
    "print(4//3) # integer division -> int"
   ]
  },
  {
   "cell_type": "markdown",
   "metadata": {},
   "source": [
    "## Bits and Bytes\n",
    "\n",
    "A bit is a 0/1 value, and a byte is 8 bits.  Most modern computers are 64-bit architectures on which Python 3 will use 64-bits to represent numbers.  Some computers may be 32-bit architectures, and Python may use 32-bits to represent numbers - beware!\n",
    "\n",
    "You can represent strings of bits using the `0b` prefix.  Be default, these will be interpreted as integers written in base-2.  For example, on a 32-bit system,\n",
    "```\n",
    "0b101 = 00000000000000000000000000000101 (base 2) = 5 (base 10)\n",
    "```"
   ]
  },
  {
   "cell_type": "code",
   "execution_count": 3,
   "metadata": {},
   "outputs": [
    {
     "name": "stdout",
     "output_type": "stream",
     "text": [
      "5\n"
     ]
    }
   ],
   "source": [
    "x = 0b101\n",
    "print(x)"
   ]
  },
  {
   "cell_type": "markdown",
   "metadata": {},
   "source": [
    "It is often easier to deal with hexadecimal (base-16), denoted with the `0x` prefix"
   ]
  },
  {
   "cell_type": "code",
   "execution_count": 4,
   "metadata": {},
   "outputs": [
    {
     "name": "stdout",
     "output_type": "stream",
     "text": [
      "15\n"
     ]
    }
   ],
   "source": [
    "x = 0xF\n",
    "print(x)"
   ]
  },
  {
   "cell_type": "markdown",
   "metadata": {},
   "source": [
    "Let's count in hexadecimal and binary:"
   ]
  },
  {
   "cell_type": "code",
   "execution_count": 5,
   "metadata": {},
   "outputs": [
    {
     "name": "stdout",
     "output_type": "stream",
     "text": [
      "hex\tbin\tdec\n",
      "0\t0\t0\n",
      "1\t1\t1\n",
      "2\t10\t2\n",
      "3\t11\t3\n",
      "4\t100\t4\n",
      "5\t101\t5\n",
      "6\t110\t6\n",
      "7\t111\t7\n",
      "8\t1000\t8\n",
      "9\t1001\t9\n",
      "a\t1010\t10\n",
      "b\t1011\t11\n",
      "c\t1100\t12\n",
      "d\t1101\t13\n",
      "e\t1110\t14\n",
      "f\t1111\t15\n",
      "10\t10000\t16\n"
     ]
    }
   ],
   "source": [
    "print(\"hex\\tbin\\tdec\")\n",
    "for x in range(0x11):\n",
    "    print(\"{:x}\\t{:b}\\t{}\".format(x, x, x))"
   ]
  },
  {
   "cell_type": "code",
   "execution_count": 6,
   "metadata": {},
   "outputs": [
    {
     "data": {
      "text/plain": [
       "True"
      ]
     },
     "execution_count": 6,
     "metadata": {},
     "output_type": "execute_result"
    }
   ],
   "source": [
    "0xF == 0b1111 == 15"
   ]
  },
  {
   "cell_type": "markdown",
   "metadata": {},
   "source": [
    "By using the `0o` prefix, you can also use octal (base 8) if you'd like"
   ]
  },
  {
   "cell_type": "code",
   "execution_count": 7,
   "metadata": {},
   "outputs": [
    {
     "name": "stdout",
     "output_type": "stream",
     "text": [
      "8\n"
     ]
    }
   ],
   "source": [
    "x = 0o10\n",
    "print(x)"
   ]
  },
  {
   "cell_type": "markdown",
   "metadata": {},
   "source": [
    "hexadecimal is often used because it breaks up bits into blocks of 4 (16 = 2^4).  So a 64-bit type has some representation as a length-16 string in hexadecimal."
   ]
  },
  {
   "cell_type": "markdown",
   "metadata": {},
   "source": [
    "## Integers\n",
    "\n",
    "Integers are represented in base-2 using bits.  Most modern computers are 64-bit architectures, and Python 3 will by default use 64-bit integers.  However, unlike some languages, Python will use arbitrary precision so you don't run into overflow errors:"
   ]
  },
  {
   "cell_type": "code",
   "execution_count": 8,
   "metadata": {},
   "outputs": [
    {
     "name": "stdout",
     "output_type": "stream",
     "text": [
      "36893488147419103232\n"
     ]
    }
   ],
   "source": [
    "print(2**65) # ** for exponentiation"
   ]
  },
  {
   "cell_type": "code",
   "execution_count": 9,
   "metadata": {},
   "outputs": [
    {
     "data": {
      "text/plain": [
       "60"
      ]
     },
     "execution_count": 9,
     "metadata": {},
     "output_type": "execute_result"
    }
   ],
   "source": [
    "import sys\n",
    "sys.getsizeof(2**256) # size in bytes"
   ]
  },
  {
   "cell_type": "markdown",
   "metadata": {},
   "source": [
    "However, when we call code written in C/C++ or fortran such as numpy, you can run into overflow issues"
   ]
  },
  {
   "cell_type": "code",
   "execution_count": 10,
   "metadata": {},
   "outputs": [
    {
     "data": {
      "text/plain": [
       "-9223372036854775808"
      ]
     },
     "execution_count": 10,
     "metadata": {},
     "output_type": "execute_result"
    }
   ],
   "source": [
    "import numpy as np\n",
    "x = np.int64(2)\n",
    "x ** 63"
   ]
  },
  {
   "cell_type": "code",
   "execution_count": 11,
   "metadata": {},
   "outputs": [
    {
     "data": {
      "text/plain": [
       "0"
      ]
     },
     "execution_count": 11,
     "metadata": {},
     "output_type": "execute_result"
    }
   ],
   "source": [
    "x**65"
   ]
  },
  {
   "cell_type": "markdown",
   "metadata": {},
   "source": [
    "## Bitwise operations\n",
    "\n",
    "You can perform operations on bit strings in Python.  To start with, we recall operations in boolean algebra: `&` (and), `|` (or), and `^` (xor) `~` (not).\n",
    "\n",
    "Here's a list of possible values for `&`"
   ]
  },
  {
   "cell_type": "code",
   "execution_count": 12,
   "metadata": {},
   "outputs": [
    {
     "name": "stdout",
     "output_type": "stream",
     "text": [
      "0 & 0 = 0\n",
      "0 & 1 = 0\n",
      "1 & 0 = 0\n",
      "1 & 1 = 1\n"
     ]
    }
   ],
   "source": [
    "for i in [0,1]:\n",
    "    for j in [0,1]:\n",
    "        print(\"{} & {} = {}\".format(i,j,i&j))"
   ]
  },
  {
   "cell_type": "markdown",
   "metadata": {},
   "source": [
    "Performing an operation bitwise just performs the operation on each set of bit grouped by position (i.e. you can read off each column of the below using the table above)\n",
    "```.\n",
    "  0b1100\n",
    "& 0b0101\n",
    "--------\n",
    "  0b0100\n",
    "```"
   ]
  },
  {
   "cell_type": "code",
   "execution_count": 13,
   "metadata": {},
   "outputs": [
    {
     "name": "stdout",
     "output_type": "stream",
     "text": [
      "the binprint function simply formats a number in binary and zero-pads on the left up to 4 digits\n",
      "0001\n",
      "0010\n",
      "0100\n",
      "1000\n",
      "\n",
      "\n",
      "bitwise operations\n",
      "0100\n",
      "1101\n",
      "1001\n",
      "-1101\n"
     ]
    }
   ],
   "source": [
    "def binprint(n):\n",
    "    \"\"\"\n",
    "    formats an input integer n to 4 digit binary\n",
    "    \n",
    "    n input\n",
    "    \n",
    "    prints n\n",
    "    \"\"\"\n",
    "    print(\"{:04b}\".format(n)) # 4 digits, padded by 0 in the front\n",
    "    \n",
    "\n",
    "print(\"the binprint function simply formats a number in binary and zero-pads on the left up to 4 digits\")\n",
    "binprint(1)\n",
    "binprint(2)\n",
    "binprint(4)\n",
    "binprint(8)\n",
    "print(\"\\n\")\n",
    "\n",
    "print(\"bitwise operations\")\n",
    "binprint(0b1100 & 0b0101) # bitwise and\n",
    "binprint(0b1100 | 0b0101) # bitwise or\n",
    "binprint(0b1100 ^ 0b0101) # bitwise xor\n",
    "binprint(~0b1100) # negation"
   ]
  },
  {
   "cell_type": "markdown",
   "metadata": {},
   "source": [
    "Note that `&` and `and` are not equivalent.  `and` does not operate bitwise - it interprets both as logical values (where `0` is `False` and any other number is `True`)."
   ]
  },
  {
   "cell_type": "code",
   "execution_count": 14,
   "metadata": {},
   "outputs": [
    {
     "name": "stdout",
     "output_type": "stream",
     "text": [
      "0100\n",
      "0101\n"
     ]
    }
   ],
   "source": [
    "binprint(0b1100 & 0b0101)\n",
    "binprint(0b1100 and 0b0101)"
   ]
  },
  {
   "cell_type": "markdown",
   "metadata": {},
   "source": [
    "## Two's Complement\n",
    "\n",
    "You'll notice in the above, that `~` has a potentially unexpected output.  We might have expected something like the following:"
   ]
  },
  {
   "cell_type": "code",
   "execution_count": 15,
   "metadata": {},
   "outputs": [
    {
     "name": "stdout",
     "output_type": "stream",
     "text": [
      "0011\n"
     ]
    }
   ],
   "source": [
    "binprint(~0b1100 & 0b1111) # negation, with bitmask for last 4 digits"
   ]
  },
  {
   "cell_type": "markdown",
   "metadata": {},
   "source": [
    "To explain why, we need to understand how negative integers are represented.  Let's consider a signed 8-bit integer.  The first bit is the sign bit (`0` indicates the number is positive, and `1` indicates the number is negative)."
   ]
  },
  {
   "cell_type": "code",
   "execution_count": 16,
   "metadata": {},
   "outputs": [
    {
     "name": "stdout",
     "output_type": "stream",
     "text": [
      "\u001b[34m0\u001b[0m\u001b[31m0000001\u001b[0m\n",
      "\u001b[34m0\u001b[0m\u001b[31m0001000\u001b[0m\n",
      "\u001b[34m0\u001b[0m\u001b[31m1000000\u001b[0m\n",
      "\u001b[34m0\u001b[0m\u001b[31m1111111\u001b[0m\n"
     ]
    }
   ],
   "source": [
    "import bitstring\n",
    "\n",
    "def print_int8(a):\n",
    "    \"\"\"\n",
    "    print a as if it were an 8-bit signed integer\n",
    "    \"\"\"\n",
    "    # for printing color\n",
    "    CRED    = '\\33[31m'\n",
    "    CBLUE   = '\\33[34m'\n",
    "    CEND      = '\\33[0m'\n",
    "    \n",
    "    b = bitstring.BitArray(int=a, length=8)\n",
    "    bs = str(b.bin)\n",
    "    print(CBLUE + bs[0] + CEND + CRED + bs[1:] + CEND)\n",
    "    \n",
    "print_int8(1)\n",
    "print_int8(8)\n",
    "print_int8(64)\n",
    "print_int8(127)"
   ]
  },
  {
   "cell_type": "markdown",
   "metadata": {},
   "source": [
    "What about a negative number?"
   ]
  },
  {
   "cell_type": "code",
   "execution_count": 17,
   "metadata": {},
   "outputs": [
    {
     "name": "stdout",
     "output_type": "stream",
     "text": [
      "\u001b[34m1\u001b[0m\u001b[31m1111111\u001b[0m\n",
      "\u001b[34m1\u001b[0m\u001b[31m0000001\u001b[0m\n"
     ]
    }
   ],
   "source": [
    "print_int8(-1)\n",
    "print_int8(-127)"
   ]
  },
  {
   "cell_type": "markdown",
   "metadata": {},
   "source": [
    "Naively, if we ignore the sign bit, `-1` looks like \"-\"`127`, and `-127` looks like \"-\"`1`.  This is because negative integers are using [two's complement](https://en.wikipedia.org/wiki/Two%27s_complement) to represent negative integers, so you can't just read off the number by ignoring the sign bit in the way you might expect.\n",
    "\n",
    "You can compute the two's complement of a number by inverting bits using a bit-wise not operation and adding `1` (ignoring integer overflow)."
   ]
  },
  {
   "cell_type": "code",
   "execution_count": 18,
   "metadata": {},
   "outputs": [
    {
     "name": "stdout",
     "output_type": "stream",
     "text": [
      "\u001b[34m1\u001b[0m\u001b[31m1111100\u001b[0m\n",
      "\u001b[34m1\u001b[0m\u001b[31m1111100\u001b[0m\n"
     ]
    }
   ],
   "source": [
    "print_int8(~4 + 1)\n",
    "print_int8(-4)"
   ]
  },
  {
   "cell_type": "markdown",
   "metadata": {},
   "source": [
    "The two's complement operation is its own inverse."
   ]
  },
  {
   "cell_type": "code",
   "execution_count": 19,
   "metadata": {},
   "outputs": [
    {
     "name": "stdout",
     "output_type": "stream",
     "text": [
      "\u001b[34m0\u001b[0m\u001b[31m0000100\u001b[0m\n",
      "\u001b[34m1\u001b[0m\u001b[31m1111100\u001b[0m\n",
      "\u001b[34m0\u001b[0m\u001b[31m0000100\u001b[0m\n"
     ]
    }
   ],
   "source": [
    "def twos_complement(n):\n",
    "    \"\"\"\n",
    "    compute the two's complement of an integer n\n",
    "    \"\"\"\n",
    "    return ~n + 1\n",
    "\n",
    "n = 4\n",
    "print_int8(4)\n",
    "print_int8(twos_complement(4))\n",
    "print_int8(twos_complement(twos_complement(4)))"
   ]
  },
  {
   "cell_type": "markdown",
   "metadata": {},
   "source": [
    "Note that positive numbers can go up to 127, but negative numbers go down to -128."
   ]
  },
  {
   "cell_type": "code",
   "execution_count": 20,
   "metadata": {},
   "outputs": [
    {
     "name": "stdout",
     "output_type": "stream",
     "text": [
      "\u001b[34m0\u001b[0m\u001b[31m0000000\u001b[0m\n",
      "\u001b[34m0\u001b[0m\u001b[31m1111111\u001b[0m\n",
      "\u001b[34m1\u001b[0m\u001b[31m0000000\u001b[0m\n"
     ]
    }
   ],
   "source": [
    "print_int8(0)\n",
    "print_int8(127)\n",
    "print_int8(-128)"
   ]
  },
  {
   "cell_type": "markdown",
   "metadata": {},
   "source": [
    "Why use two's complement?  The reason why is that using this representation you can use the same circuits in hardware for addition, subtraction, and multiplication of negative integers that you can for positive integers."
   ]
  },
  {
   "cell_type": "markdown",
   "metadata": {},
   "source": [
    "## Floating Point Numbers\n",
    "\n",
    "Real numbers are typically represented as floating point numbers on a computer.  Almost all real numbers must be approximated, which means you can't always ask for exact equality"
   ]
  },
  {
   "cell_type": "code",
   "execution_count": 21,
   "metadata": {},
   "outputs": [
    {
     "data": {
      "text/plain": [
       "0.3333333333333333"
      ]
     },
     "execution_count": 21,
     "metadata": {},
     "output_type": "execute_result"
    }
   ],
   "source": [
    "1.0/3.0"
   ]
  },
  {
   "cell_type": "code",
   "execution_count": 22,
   "metadata": {},
   "outputs": [
    {
     "data": {
      "text/plain": [
       "0.19999999999999996"
      ]
     },
     "execution_count": 22,
     "metadata": {},
     "output_type": "execute_result"
    }
   ],
   "source": [
    "1.2 - 1.0"
   ]
  },
  {
   "cell_type": "code",
   "execution_count": 23,
   "metadata": {},
   "outputs": [
    {
     "data": {
      "text/plain": [
       "False"
      ]
     },
     "execution_count": 23,
     "metadata": {},
     "output_type": "execute_result"
    }
   ],
   "source": [
    "1.2 - 1.0 == 0.2"
   ]
  },
  {
   "cell_type": "markdown",
   "metadata": {},
   "source": [
    "The approximation error is called **machine precision**, typically denoted $\\epsilon$"
   ]
  },
  {
   "cell_type": "code",
   "execution_count": 24,
   "metadata": {},
   "outputs": [
    {
     "name": "stdout",
     "output_type": "stream",
     "text": [
      "0.000977\n",
      "1.1920929e-07\n",
      "2.220446049250313e-16\n",
      "1.084202172485504434e-19\n"
     ]
    }
   ],
   "source": [
    "import numpy as np\n",
    "print(np.finfo(np.float16).eps) # 16-bit float\n",
    "print(np.finfo(np.float32).eps) # 32-bit float\n",
    "print(np.finfo(np.float64).eps) # 64-bit float\n",
    "print(np.finfo(np.float128).eps) # 128-bit float"
   ]
  },
  {
   "cell_type": "markdown",
   "metadata": {},
   "source": [
    "32-bit floating point numbers corrsepond to a `float` in C, and are also known as **single precision** numbers.  64-bit floating point numbers correspond to a `double` in C, and are also known as **double precision** numbers.  16-bit floats are half-precision, and 128-bit floats are quad-precision.\n",
    "\n",
    "Double precision is the standard for many numerical codes.  Quad- (or higher) precision is sometimes useful.  A big trend in deep learning is to use lower-precision formats.\n",
    "\n",
    "Floating point numbers are numbers written in scientific notation (in base-2).  E.g. $1.1 * 2^{10} = 1.5 * 2^2$ in base-10 = 6.  They contain a sign bit, a set of bits for the decimal (called the significand or mantissa), and a set of bits for the exponent.\n",
    "\n",
    "For example, float32 has 1 bit for the sign, 8 bits for the exponent, and 23 bits for the mantissa.\n",
    "\n",
    "![img](https://upload.wikimedia.org/wikipedia/commons/thumb/d/d2/Float_example.svg/1920px-Float_example.svg.png)\n",
    "\n",
    "For further reading on potential considerations with floating point numbers, see [the Python documentation](https://docs.python.org/3/tutorial/floatingpoint.html)."
   ]
  },
  {
   "cell_type": "markdown",
   "metadata": {},
   "source": [
    "You can inspect the bits used in a floating point number in python using the `bitstring` package\n",
    "\n",
    "```\n",
    "(pycourse) $ conda install bitstring -c conda-forge\n",
    "```"
   ]
  },
  {
   "cell_type": "code",
   "execution_count": 25,
   "metadata": {},
   "outputs": [
    {
     "name": "stdout",
     "output_type": "stream",
     "text": [
      " 1.00e+00 = \u001b[34m0\u001b[0m\u001b[32m0111111\u001b[0m\u001b[31m100000000000000000000000\u001b[0m\n",
      "-1.00e+00 = \u001b[34m1\u001b[0m\u001b[32m0111111\u001b[0m\u001b[31m100000000000000000000000\u001b[0m\n",
      " 1.18e-38 = \u001b[34m0\u001b[0m\u001b[32m0000000\u001b[0m\u001b[31m100000000000000000000000\u001b[0m\n",
      " 8.51e+37 = \u001b[34m0\u001b[0m\u001b[32m1111110\u001b[0m\u001b[31m100000000000000000000000\u001b[0m\n"
     ]
    }
   ],
   "source": [
    "import bitstring\n",
    "def fmt_float32_bits(a):\n",
    "    \"\"\"\n",
    "    prints bits of a 32-bit float\n",
    "    \"\"\"\n",
    "    # for printing color\n",
    "    CRED    = '\\33[31m'\n",
    "    CGREEN  = '\\33[32m'\n",
    "    CBLUE   = '\\33[34m'\n",
    "    CEND      = '\\33[0m'\n",
    "    \n",
    "    b = bitstring.BitArray(float=a, length=32)\n",
    "    bs = str(b.bin)\n",
    "    return CBLUE + bs[0] + CEND + CGREEN + bs[1:8] + CEND + CRED + bs[8:] + CEND\n",
    "    \n",
    "print(\"{: .2e} = {}\".format(1.0, fmt_float32_bits(1.0)))\n",
    "print(\"{: .2e} = {}\".format(-1.0, fmt_float32_bits(-1.0)))\n",
    "print(\"{: .2e} = {}\".format(1/(2**126), fmt_float32_bits(1/(2**126))))\n",
    "print(\"{: .2e} = {}\".format((2**126),fmt_float32_bits((2**126))))"
   ]
  },
  {
   "cell_type": "code",
   "execution_count": 26,
   "metadata": {},
   "outputs": [
    {
     "name": "stdout",
     "output_type": "stream",
     "text": [
      " 3.14e+00 = \u001b[34m0\u001b[0m\u001b[32m1000000\u001b[0m\u001b[31m010010010000111111011011\u001b[0m\n"
     ]
    }
   ],
   "source": [
    "print(\"{: .2e} = {}\".format((np.pi),fmt_float32_bits((np.pi))))"
   ]
  },
  {
   "cell_type": "markdown",
   "metadata": {},
   "source": [
    "As a result, you can't count on floating point numbers to count:"
   ]
  },
  {
   "cell_type": "code",
   "execution_count": 27,
   "metadata": {},
   "outputs": [
    {
     "name": "stdout",
     "output_type": "stream",
     "text": [
      "0.0\n"
     ]
    }
   ],
   "source": [
    "import numpy as np\n",
    "a = np.float32(2**24 + 1)\n",
    "b = np.float32(2**24)\n",
    "print(a - b)"
   ]
  },
  {
   "cell_type": "code",
   "execution_count": 28,
   "metadata": {},
   "outputs": [
    {
     "name": "stdout",
     "output_type": "stream",
     "text": [
      "a = \u001b[34m0\u001b[0m\u001b[32m1001011\u001b[0m\u001b[31m100000000000000000000000\u001b[0m\n",
      "b = \u001b[34m0\u001b[0m\u001b[32m1001011\u001b[0m\u001b[31m100000000000000000000000\u001b[0m\n"
     ]
    }
   ],
   "source": [
    "print(\"a = {}\".format(fmt_float32_bits(a)))\n",
    "print(\"b = {}\".format(fmt_float32_bits(b)))"
   ]
  },
  {
   "cell_type": "markdown",
   "metadata": {},
   "source": [
    "For floats, there are two equivalent zeros"
   ]
  },
  {
   "cell_type": "code",
   "execution_count": 29,
   "metadata": {},
   "outputs": [
    {
     "name": "stdout",
     "output_type": "stream",
     "text": [
      " 0.0 = \u001b[34m0\u001b[0m\u001b[32m0000000\u001b[0m\u001b[31m000000000000000000000000\u001b[0m\n",
      "-0.0 = \u001b[34m1\u001b[0m\u001b[32m0000000\u001b[0m\u001b[31m000000000000000000000000\u001b[0m\n"
     ]
    },
    {
     "data": {
      "text/plain": [
       "True"
      ]
     },
     "execution_count": 29,
     "metadata": {},
     "output_type": "execute_result"
    }
   ],
   "source": [
    "print(\" 0.0 = {}\".format(fmt_float32_bits(0.0)))\n",
    "print(\"-0.0 = {}\".format(fmt_float32_bits(-0.0)))\n",
    "0.0 == -0.0"
   ]
  },
  {
   "cell_type": "markdown",
   "metadata": {},
   "source": [
    "### Converting From Floating Point\n",
    "\n",
    "If you want to convert the binary floating point representation to a decimal, you can read off the sign, exponent, and significand independently.\n",
    "\n",
    "The sign bit is straightforward (`0` is positive, `1` is negative)"
   ]
  },
  {
   "cell_type": "code",
   "execution_count": 30,
   "metadata": {},
   "outputs": [
    {
     "name": "stdout",
     "output_type": "stream",
     "text": [
      " 0.0 = \u001b[34m0\u001b[0m\u001b[32m0000000\u001b[0m\u001b[31m000000000000000000000000\u001b[0m\n",
      "-0.0 = \u001b[34m1\u001b[0m\u001b[32m0000000\u001b[0m\u001b[31m000000000000000000000000\u001b[0m\n"
     ]
    }
   ],
   "source": [
    "print(\" 0.0 = {}\".format(fmt_float32_bits(0.0)))\n",
    "print(\"-0.0 = {}\".format(fmt_float32_bits(-0.0)))"
   ]
  },
  {
   "cell_type": "markdown",
   "metadata": {},
   "source": [
    "The exponent has a \"bias\" equal to half the number of possible bits.  So to get the value of an 8-bit exponent, we subtract `2**7-1 = 127 = 0b01111111`."
   ]
  },
  {
   "cell_type": "code",
   "execution_count": 31,
   "metadata": {},
   "outputs": [
    {
     "name": "stdout",
     "output_type": "stream",
     "text": [
      "1.18e-38 = \u001b[34m0\u001b[0m\u001b[32m0000000\u001b[0m\u001b[31m100000000000000000000000\u001b[0m\n",
      "1.00e+00 = \u001b[34m0\u001b[0m\u001b[32m0111111\u001b[0m\u001b[31m100000000000000000000000\u001b[0m\n",
      "8.51e+37 = \u001b[34m0\u001b[0m\u001b[32m1111110\u001b[0m\u001b[31m100000000000000000000000\u001b[0m\n"
     ]
    }
   ],
   "source": [
    "for x in [2**-126, 1e0, 2**126]:\n",
    "    print( \"{:.2e} = {}\".format(x,fmt_float32_bits(x)))"
   ]
  },
  {
   "cell_type": "markdown",
   "metadata": {},
   "source": [
    "You obtain the number by raising the significand to the base multiplied by the exponent."
   ]
  },
  {
   "cell_type": "markdown",
   "metadata": {},
   "source": [
    "### Print Formatting\n",
    "\n",
    "It is often convenient to format floating point numbers for printing without showing full precision.  An explanation of available options can be found in the [format specification mini-language documentation](https://docs.python.org/3/library/string.html#format-specification-mini-language).  We'll cover a few examples.\n",
    "\n",
    "When formatting a floating point number with `format`, you put format specification in the curly braces `{}`, as in `\"{:width.precision}}`.\n",
    "\n",
    "The *width* denotes the total field width.\n",
    "\n",
    "The *precision* denotes how many digits should be displayed after the decimal."
   ]
  },
  {
   "cell_type": "code",
   "execution_count": 32,
   "metadata": {},
   "outputs": [
    {
     "name": "stdout",
     "output_type": "stream",
     "text": [
      "3.141593e+00\n",
      "3.14e+00\n",
      "3.141593\n",
      "3.14\n",
      "  3.14\n",
      " +3.14\n",
      " +3.14\n",
      "003.14\n",
      " 3.14\n",
      "-3.14\n"
     ]
    }
   ],
   "source": [
    "pi = np.pi\n",
    "print(\"{:e}\".format(pi))      # exponential notation\n",
    "print(\"{:.2e}\".format(pi))    # exponential, precision 2\n",
    "print(\"{:f}\".format(pi))      # fixed-point notation\n",
    "print(\"{:.2f}\".format(pi))    # fixed-point, precision 2\n",
    "print(\"{:6.2f}\".format(pi))   # minimum field width of 5\n",
    "print(\"{:+6.2f}\".format(pi))  # minimum field width of 5, explicit sign\n",
    "print(f\"{pi:+6.2f}\")          # f-string instead of format\n",
    "print(\"{:06.2f}\".format(pi))  # 0-pad to to fill width\n",
    "print(\"{: .2f}\".format(pi))   # use space for sign alignment\n",
    "print(\"{: .2f}\".format(-pi))  # use space for sign alignment"
   ]
  },
  {
   "cell_type": "markdown",
   "metadata": {},
   "source": [
    "## Exercise\n",
    "1. What is $\\log_2(\\epsilon)$ for 32 and 64-bit floats?  (hint: use `np.log2`)\n",
    "2. How many bits do you think are used to represent the decimal part of a number in both these formats?\n",
    "3. If you take into account a sign bit, how many bits are left for the exponent?\n",
    "4. What is the largest exponent you can have for 32- and 64-bit floats? Keep in mind that you should have an equal number of positive and negative expoenents.\n",
    "5. Design an experiment to check your answer to part 4.\n",
    "\n",
    "Check your answer with e.g. `np.finfo(np.float32).max)`"
   ]
  },
  {
   "cell_type": "code",
   "execution_count": 33,
   "metadata": {},
   "outputs": [],
   "source": [
    "# Your code here\n"
   ]
  },
  {
   "cell_type": "code",
   "execution_count": 34,
   "metadata": {
    "tags": [
     "hide-cell"
    ]
   },
   "outputs": [
    {
     "data": {
      "text/plain": [
       "-23.0"
      ]
     },
     "execution_count": 34,
     "metadata": {},
     "output_type": "execute_result"
    }
   ],
   "source": [
    "# Part 1\n",
    "np.log2(np.finfo(np.float32).eps)"
   ]
  },
  {
   "cell_type": "code",
   "execution_count": 35,
   "metadata": {
    "tags": [
     "hide-cell"
    ]
   },
   "outputs": [
    {
     "data": {
      "text/plain": [
       "23.0"
      ]
     },
     "execution_count": 35,
     "metadata": {},
     "output_type": "execute_result"
    }
   ],
   "source": [
    "-np.log2(np.finfo(np.float32).eps)"
   ]
  },
  {
   "cell_type": "code",
   "execution_count": 36,
   "metadata": {
    "tags": [
     "hide-cell"
    ]
   },
   "outputs": [
    {
     "data": {
      "text/plain": [
       "8.0"
      ]
     },
     "execution_count": 36,
     "metadata": {},
     "output_type": "execute_result"
    }
   ],
   "source": [
    "# Part 3\n",
    "32 + np.log2(np.finfo(np.float32).eps) - 1"
   ]
  },
  {
   "cell_type": "code",
   "execution_count": 37,
   "metadata": {
    "tags": [
     "hide-cell"
    ]
   },
   "outputs": [
    {
     "name": "stdout",
     "output_type": "stream",
     "text": [
      "127\n",
      "127\n"
     ]
    }
   ],
   "source": [
    "# part 4\n",
    "print(0b11111111 // 2) # bit string of 8 1s in binary\n",
    "print(0xFF // 2)       # same bit string, but in hex"
   ]
  },
  {
   "cell_type": "code",
   "execution_count": 38,
   "metadata": {
    "tags": [
     "hide-cell"
    ]
   },
   "outputs": [
    {
     "name": "stdout",
     "output_type": "stream",
     "text": [
      "1.7014118e+38\n",
      "inf\n"
     ]
    },
    {
     "name": "stderr",
     "output_type": "stream",
     "text": [
      "/tmp/ipykernel_10567/167000260.py:3: RuntimeWarning: overflow encountered in cast\n",
      "  print(np.float32(1.0 *2**128))\n"
     ]
    }
   ],
   "source": [
    "# part 5\n",
    "print(np.float32(1.0 *2**127))\n",
    "print(np.float32(1.0 *2**128))"
   ]
  },
  {
   "cell_type": "code",
   "execution_count": 39,
   "metadata": {
    "tags": [
     "hide-cell"
    ]
   },
   "outputs": [
    {
     "name": "stderr",
     "output_type": "stream",
     "text": [
      "/tmp/ipykernel_10567/1218727782.py:1: RuntimeWarning: overflow encountered in cast\n",
      "  np.float32(1.0 *2**128)\n"
     ]
    },
    {
     "data": {
      "text/plain": [
       "inf"
      ]
     },
     "execution_count": 39,
     "metadata": {},
     "output_type": "execute_result"
    }
   ],
   "source": [
    "np.float32(1.0 *2**128)"
   ]
  }
 ],
 "metadata": {
  "kernelspec": {
   "display_name": "Python (pycourse_test)",
   "language": "python",
   "name": "pycourse"
  },
  "language_info": {
   "codemirror_mode": {
    "name": "ipython",
    "version": 3
   },
   "file_extension": ".py",
   "mimetype": "text/x-python",
   "name": "python",
   "nbconvert_exporter": "python",
   "pygments_lexer": "ipython3",
   "version": "3.11.4"
  }
 },
 "nbformat": 4,
 "nbformat_minor": 4
}
