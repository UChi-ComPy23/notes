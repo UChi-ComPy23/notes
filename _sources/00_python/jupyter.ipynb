{
 "cells": [
  {
   "cell_type": "markdown",
   "metadata": {},
   "source": [
    "# Installing and Using Jupyter Notebooks\n",
    "\n",
    "You should already have [Anaconda Python](conda.md) installed on your system.\n",
    "\n",
    "## Jupyter\n",
    "\n",
    "[Jupyter](https://jupyter.org/) (Julia, Python, R) notebooks mix code with markdown (a language for basic text formatting) in your browser.  This document is a Jupyter notebook, and the text is written in markdown.\n",
    "\n",
    "You can run code in code cells, like this:"
   ]
  },
  {
   "cell_type": "code",
   "execution_count": 1,
   "metadata": {},
   "outputs": [
    {
     "data": {
      "text/plain": [
       "2"
      ]
     },
     "execution_count": 1,
     "metadata": {},
     "output_type": "execute_result"
    }
   ],
   "source": [
    "1 + 1"
   ]
  },
  {
   "cell_type": "markdown",
   "metadata": {},
   "source": [
    "We'll use Jupyter notebooks for Python,  but you can use notebooks for other languages as well (such as Julia and R, but also a variety of others)."
   ]
  },
  {
   "cell_type": "markdown",
   "metadata": {},
   "source": [
    "## Install Jupyter to the conda base environment\n",
    "\n",
    "This will allow you to launch Jupyter notebooks without activating your `pycourse` environment. \n",
    "\n",
    "First, launch a terminal, and [install notebooks](https://jupyter.org/install) **in your base environment**\n",
    "\n",
    "```bash\n",
    "(base) $ conda install -c conda-forge notebook\n",
    "```\n",
    "(`-c conda-forge` tells `conda` to install from the `conda-forge` channel).\n",
    "\n",
    "### Test your installation\n",
    "\n",
    "After installation, you should see a `jupyter` command is now available.\n",
    "\n",
    "```bash\n",
    "(base) $ which jupyter\n",
    "~/miniconda3/bin/jupyter\n",
    "```"
   ]
  },
  {
   "cell_type": "markdown",
   "metadata": {},
   "source": [
    "## Install A Kernel for your environment\n",
    "\n",
    "The next thing you need to do is install a kernel for your `pycourse` environment.  This will allow you to run code in Jupyter notebooks using the same setup as you would if you activate `pycourse`.\n",
    "\n",
    "First, activate your `pycourse` environment in a terminal\n",
    "```bash\n",
    "(base) $ conda activate pycourse\n",
    "(pycourse) $\n",
    "```\n",
    "\n",
    "Next, install the `ipykernel` package using `conda`\n",
    "```bash\n",
    "(pycourse) $ conda install ipykernel -c conda-forge\n",
    "```\n",
    "\n",
    "Now, you run the installation\n",
    "```bash\n",
    "(pycourse) $ python -m ipykernel install --user --name pycourse --display-name \"Python (pycourse)\"\n",
    "```\n",
    "\n",
    "Finally, deactivate your `pycourse` environment\n",
    "```bash\n",
    "(pycourse) $ conda deactivate\n",
    "```"
   ]
  },
  {
   "cell_type": "markdown",
   "metadata": {},
   "source": [
    "## Launch a Jupyter notebook server\n",
    "\n",
    "Now, to launch a Jupyter notebook server, simply type\n",
    "```bash\n",
    "(base) $ jupyter notebook\n",
    "```\n",
    "\n",
    "You can launch the notebook server from any directory.\n",
    "\n",
    "You can either create new notebooks, or launch existing notebooks."
   ]
  }
 ],
 "metadata": {
  "kernelspec": {
   "display_name": "Python (pycourse_test)",
   "language": "python",
   "name": "pycourse"
  },
  "language_info": {
   "codemirror_mode": {
    "name": "ipython",
    "version": 3
   },
   "file_extension": ".py",
   "mimetype": "text/x-python",
   "name": "python",
   "nbconvert_exporter": "python",
   "pygments_lexer": "ipython3",
   "version": "3.11.4"
  }
 },
 "nbformat": 4,
 "nbformat_minor": 4
}
